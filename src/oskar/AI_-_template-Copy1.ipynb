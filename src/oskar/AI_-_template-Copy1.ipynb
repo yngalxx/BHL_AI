{
 "cells": [
  {
   "cell_type": "markdown",
   "metadata": {},
   "source": [
    "# Sprawdzanie dokładności modelu\n",
    "Plik test_data.csv jest dostępny tylko dla jury. Zawiera dane testowe - jednakowe dla wszystkich drużyn. Jest w takim samym formacie co zbiór, który otrzymaliście wraz z zadaniem, tylko już z czystymi danymi."
   ]
  },
  {
   "cell_type": "code",
   "execution_count": 1,
   "metadata": {},
   "outputs": [],
   "source": [
    "import pandas as pd\n",
    "import numpy as np"
   ]
  },
  {
   "cell_type": "code",
   "execution_count": null,
   "metadata": {},
   "outputs": [],
   "source": [
    "test_data = pd.read_csv(\"test_data.csv\")"
   ]
  },
  {
   "cell_type": "markdown",
   "metadata": {},
   "source": [
    "## Miejsce na twój kod:"
   ]
  },
  {
   "cell_type": "markdown",
   "metadata": {},
   "source": [
    "### Exploratory data analysis \n",
    "\n",
    "- Podstawowe statystyki \n",
    "- Opis struktury zbioru wejściowego:\n",
    "    - Nany\n",
    "    - Duplikaty\n",
    "    - Podział na subjectów\n",
    "    - Macierz korelacji\n",
    "    - ...\n",
    "- Baseline model \n",
    "- Feature importance"
   ]
  },
  {
   "cell_type": "markdown",
   "metadata": {},
   "source": [
    "### Data cleaning and transformation\n",
    "\n",
    "- Standaryzacja / Normalizacja \n",
    "- Imputacja nanów\n",
    "- redukcja wymiarowości\n",
    "- ..."
   ]
  },
  {
   "cell_type": "markdown",
   "metadata": {},
   "source": [
    "### Opis datasetu\n",
    "\n",
    "- Pamiętać o opisaniu m.in wartości odstających (per subject) \n",
    "\n",
    "W tej sekcji skupimy się na opisie wejściowego zbioru danych i dlaczego zdecydowaliśmy się na poszczególne transformacje."
   ]
  },
  {
   "cell_type": "markdown",
   "metadata": {},
   "source": [
    "### Model \n",
    "\n",
    "- Opis zastosowanego podejścia\n",
    "- Uzasadnienie "
   ]
  },
  {
   "cell_type": "markdown",
   "metadata": {},
   "source": [
    "### Ewaluacja modelu \n",
    "\n",
    "- weryfikacja modelu: cross validation\n",
    "- metryki: accuracy, precision, recall, f-1, accuracy, ROC, AUC, AUROC\n",
    "- optymalizacja hiperparametrów: random search, grid search\n",
    "- Porównanie wyników wybranego modelu z innymi próbowanymi podejściami (choćby opisowo) "
   ]
  },
  {
   "cell_type": "markdown",
   "metadata": {},
   "source": [
    "### Interpretacja wyników\n",
    "\n",
    "- Opis rezultatów uzyskanych przez model\n",
    "- Końcowe wnioski z analizy wejściowego zbioru danych "
   ]
  },
  {
   "cell_type": "markdown",
   "metadata": {},
   "source": [
    "### Plan przyszłych prac nad rozwiązaniem\n",
    "\n",
    "co jeszcze chcielibyśmy zrobić, gdybyśmy mieli rozwijać projekt."
   ]
  },
  {
   "cell_type": "code",
   "execution_count": null,
   "metadata": {},
   "outputs": [],
   "source": []
  },
  {
   "cell_type": "markdown",
   "metadata": {},
   "source": [
    "### Sprawdzanie dokładności:\n",
    "Predicted - zmienna przechowująca przewidzianą aktywność. Poniższa linijka powinna zwrócić wartość 0-1."
   ]
  },
  {
   "cell_type": "code",
   "execution_count": null,
   "metadata": {},
   "outputs": [],
   "source": [
    "np.mean(predicted == test_data.Activity)"
   ]
  }
 ],
 "metadata": {
  "kernelspec": {
   "display_name": "Python 3",
   "language": "python",
   "name": "python3"
  },
  "language_info": {
   "codemirror_mode": {
    "name": "ipython",
    "version": 3
   },
   "file_extension": ".py",
   "mimetype": "text/x-python",
   "name": "python",
   "nbconvert_exporter": "python",
   "pygments_lexer": "ipython3",
   "version": "3.6.9"
  }
 },
 "nbformat": 4,
 "nbformat_minor": 4
}
