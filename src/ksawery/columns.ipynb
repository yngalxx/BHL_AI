{
 "cells": [
  {
   "cell_type": "code",
   "execution_count": 1,
   "id": "organizational-character",
   "metadata": {},
   "outputs": [],
   "source": [
    "#standard\n",
    "import re\n",
    "from collections import Counter\n",
    "\n",
    "#3rd party\n",
    "import numpy as np\n",
    "import pandas as pd\n",
    "pd.options.display.max_columns = 999\n",
    "pd.options.display.max_rows = 50\n",
    "import warnings\n",
    "warnings.simplefilter(action='ignore', category=FutureWarning)\n",
    "warnings.simplefilter(action='ignore', category=DeprecationWarning)\n",
    "\n",
    "\n",
    "import matplotlib.pyplot as plt\n",
    "import seaborn as sns\n",
    "import scipy.stats as ss\n",
    "\n",
    "from sklearn.impute import KNNImputer\n",
    "from sklearn.preprocessing import StandardScaler\n",
    "from sklearn.model_selection import train_test_split\n",
    "\n",
    "import miceforest as mf\n",
    "\n",
    "import catboost\n",
    "\n",
    "#local\n",
    "from configs import DATA_PATH\n",
    "\n",
    "SEED = 1998\n",
    "np.random.seed(SEED)"
   ]
  },
  {
   "cell_type": "code",
   "execution_count": 2,
   "id": "covered-cabinet",
   "metadata": {},
   "outputs": [],
   "source": [
    "from sklearn.metrics import roc_curve, auc\n",
    "from sklearn.model_selection import train_test_split\n",
    "from sklearn.preprocessing import label_binarize\n",
    "from sklearn.multiclass import OneVsRestClassifier\n",
    "from scipy import interp\n",
    "from sklearn.metrics import roc_auc_score\n",
    "\n",
    "from itertools import cycle"
   ]
  },
  {
   "cell_type": "markdown",
   "id": "corrected-forth",
   "metadata": {},
   "source": [
    "# Load data"
   ]
  },
  {
   "cell_type": "code",
   "execution_count": 3,
   "id": "radical-republican",
   "metadata": {},
   "outputs": [
    {
     "name": "stdout",
     "output_type": "stream",
     "text": [
      "11086\n"
     ]
    }
   ],
   "source": [
    "data = pd.read_csv(DATA_PATH, index_col=0)\n",
    "# data = data.drop(columns=\"void()\")\n",
    "# print(len(data))\n",
    "# data = data.dropna()\n",
    "print(len(data))"
   ]
  },
  {
   "cell_type": "code",
   "execution_count": 4,
   "id": "hourly-tension",
   "metadata": {},
   "outputs": [],
   "source": [
    "# data.columns = [re.sub(\"\\(\\)\", \"\", column) for column in data.columns]\n",
    "# data.columns = [re.sub(\"\\-|\\,\", \"_\", column) for column in data.columns]\n",
    "\n",
    "data[[\"Activity\", \"subject\"]] = data[[\"Activity\", \"subject\"]].astype(\"category\")"
   ]
  },
  {
   "cell_type": "code",
   "execution_count": 75,
   "id": "sensitive-chrome",
   "metadata": {},
   "outputs": [],
   "source": [
    "X, y = data.iloc[:,1:], data.iloc[:,0]\n",
    "indices = np.random.randint(0, len(X), )\n",
    "X_sample = X.sample(frac=0.25)\n",
    "y_sample = y[X_sample.index.tolist()]"
   ]
  },
  {
   "cell_type": "code",
   "execution_count": 6,
   "id": "continued-encoding",
   "metadata": {},
   "outputs": [
    {
     "data": {
      "text/html": [
       "<div>\n",
       "<style scoped>\n",
       "    .dataframe tbody tr th:only-of-type {\n",
       "        vertical-align: middle;\n",
       "    }\n",
       "\n",
       "    .dataframe tbody tr th {\n",
       "        vertical-align: top;\n",
       "    }\n",
       "\n",
       "    .dataframe thead th {\n",
       "        text-align: right;\n",
       "    }\n",
       "</style>\n",
       "<table border=\"1\" class=\"dataframe\">\n",
       "  <thead>\n",
       "    <tr style=\"text-align: right;\">\n",
       "      <th></th>\n",
       "      <th>count</th>\n",
       "    </tr>\n",
       "  </thead>\n",
       "  <tbody>\n",
       "    <tr>\n",
       "      <th>fBodyAcc</th>\n",
       "      <td>82</td>\n",
       "    </tr>\n",
       "    <tr>\n",
       "      <th>fBodyGyro</th>\n",
       "      <td>79</td>\n",
       "    </tr>\n",
       "    <tr>\n",
       "      <th>fBodyAccJerk</th>\n",
       "      <td>79</td>\n",
       "    </tr>\n",
       "    <tr>\n",
       "      <th>tBodyGyro</th>\n",
       "      <td>43</td>\n",
       "    </tr>\n",
       "    <tr>\n",
       "      <th>tGravityAcc</th>\n",
       "      <td>40</td>\n",
       "    </tr>\n",
       "    <tr>\n",
       "      <th>tBodyGyroJerk</th>\n",
       "      <td>40</td>\n",
       "    </tr>\n",
       "    <tr>\n",
       "      <th>tBodyAccJerk</th>\n",
       "      <td>40</td>\n",
       "    </tr>\n",
       "    <tr>\n",
       "      <th>tBodyAcc</th>\n",
       "      <td>40</td>\n",
       "    </tr>\n",
       "    <tr>\n",
       "      <th>tBodyAccMag</th>\n",
       "      <td>13</td>\n",
       "    </tr>\n",
       "    <tr>\n",
       "      <th>tBodyAccJerkMag</th>\n",
       "      <td>13</td>\n",
       "    </tr>\n",
       "    <tr>\n",
       "      <th>tBodyGyroJerkMag</th>\n",
       "      <td>13</td>\n",
       "    </tr>\n",
       "    <tr>\n",
       "      <th>tBodyGyroMag</th>\n",
       "      <td>13</td>\n",
       "    </tr>\n",
       "    <tr>\n",
       "      <th>fBodyBodyGyroMag</th>\n",
       "      <td>13</td>\n",
       "    </tr>\n",
       "    <tr>\n",
       "      <th>fBodyBodyGyroJerkMag</th>\n",
       "      <td>13</td>\n",
       "    </tr>\n",
       "    <tr>\n",
       "      <th>fBodyBodyAccJerkMag</th>\n",
       "      <td>13</td>\n",
       "    </tr>\n",
       "    <tr>\n",
       "      <th>fBodyAccMag</th>\n",
       "      <td>13</td>\n",
       "    </tr>\n",
       "    <tr>\n",
       "      <th>tGravityAccMag</th>\n",
       "      <td>13</td>\n",
       "    </tr>\n",
       "    <tr>\n",
       "      <th>angle</th>\n",
       "      <td>7</td>\n",
       "    </tr>\n",
       "    <tr>\n",
       "      <th>Activity</th>\n",
       "      <td>1</td>\n",
       "    </tr>\n",
       "    <tr>\n",
       "      <th>subject</th>\n",
       "      <td>1</td>\n",
       "    </tr>\n",
       "    <tr>\n",
       "      <th>shadow</th>\n",
       "      <td>1</td>\n",
       "    </tr>\n",
       "    <tr>\n",
       "      <th>energy</th>\n",
       "      <td>1</td>\n",
       "    </tr>\n",
       "    <tr>\n",
       "      <th>void</th>\n",
       "      <td>1</td>\n",
       "    </tr>\n",
       "  </tbody>\n",
       "</table>\n",
       "</div>"
      ],
      "text/plain": [
       "                      count\n",
       "fBodyAcc                 82\n",
       "fBodyGyro                79\n",
       "fBodyAccJerk             79\n",
       "tBodyGyro                43\n",
       "tGravityAcc              40\n",
       "tBodyGyroJerk            40\n",
       "tBodyAccJerk             40\n",
       "tBodyAcc                 40\n",
       "tBodyAccMag              13\n",
       "tBodyAccJerkMag          13\n",
       "tBodyGyroJerkMag         13\n",
       "tBodyGyroMag             13\n",
       "fBodyBodyGyroMag         13\n",
       "fBodyBodyGyroJerkMag     13\n",
       "fBodyBodyAccJerkMag      13\n",
       "fBodyAccMag              13\n",
       "tGravityAccMag           13\n",
       "angle                     7\n",
       "Activity                  1\n",
       "subject                   1\n",
       "shadow                    1\n",
       "energy                    1\n",
       "void                      1"
      ]
     },
     "execution_count": 6,
     "metadata": {},
     "output_type": "execute_result"
    }
   ],
   "source": [
    "pd.DataFrame.from_dict(Counter([col.split('-')[0].split('(')[0] for col in data.columns]), orient='index').rename(columns={0:'count'}).sort_values('count', ascending=False)"
   ]
  },
  {
   "cell_type": "code",
   "execution_count": 7,
   "id": "green-mobility",
   "metadata": {},
   "outputs": [],
   "source": [
    "angles = [col for col in X.columns if \"angle\" in col]"
   ]
  },
  {
   "cell_type": "code",
   "execution_count": 10,
   "id": "twelve-psychology",
   "metadata": {},
   "outputs": [
    {
     "data": {
      "text/plain": [
       "['angle(X,gravityMean)',\n",
       " 'angle(Y,gravityMean)',\n",
       " 'angle(Z,gravityMean)',\n",
       " 'angle(tBodyAccJerkMean),gravityMean)',\n",
       " 'angle(tBodyAccMean,gravity)',\n",
       " 'angle(tBodyGyroJerkMean,gravityMean)',\n",
       " 'angle(tBodyGyroMean,gravityMean)',\n",
       " 'shadow-gravity-angle()']"
      ]
     },
     "execution_count": 10,
     "metadata": {},
     "output_type": "execute_result"
    }
   ],
   "source": [
    "angles"
   ]
  },
  {
   "cell_type": "code",
   "execution_count": 11,
   "id": "disturbed-memorabilia",
   "metadata": {},
   "outputs": [
    {
     "data": {
      "text/plain": [
       "angle(X,gravityMean)                   -0.070668\n",
       "angle(Y,gravityMean)                   -0.083565\n",
       "angle(Z,gravityMean)                    0.118155\n",
       "angle(tBodyAccJerkMean),gravityMean)   -0.216267\n",
       "angle(tBodyAccMean,gravity)            -0.109516\n",
       "angle(tBodyGyroJerkMean,gravityMean)   -0.058102\n",
       "angle(tBodyGyroMean,gravityMean)       -0.259680\n",
       "dtype: float64"
      ]
     },
     "execution_count": 11,
     "metadata": {},
     "output_type": "execute_result"
    }
   ],
   "source": [
    "X[angles[:-1]].corrwith(X[angles[-1]])"
   ]
  },
  {
   "cell_type": "code",
   "execution_count": 18,
   "id": "continued-massage",
   "metadata": {},
   "outputs": [],
   "source": [
    "from sklearn.linear_model import LinearRegression"
   ]
  },
  {
   "cell_type": "code",
   "execution_count": 24,
   "id": "cooked-gazette",
   "metadata": {},
   "outputs": [],
   "source": [
    "jerk = \"fBodyAccJerk\"\n",
    "acc = \"fBodyAcc\"\n",
    "acc_mag = \"fBodyAccMag\""
   ]
  },
  {
   "cell_type": "code",
   "execution_count": 17,
   "id": "african-sapphire",
   "metadata": {},
   "outputs": [],
   "source": [
    "jerk_cols = [col for col in X.columns if jerk in col]"
   ]
  },
  {
   "cell_type": "code",
   "execution_count": 19,
   "id": "specified-insert",
   "metadata": {},
   "outputs": [],
   "source": [
    "acc_cols = [col for col in X.columns if acc in col]"
   ]
  },
  {
   "cell_type": "code",
   "execution_count": 25,
   "id": "combined-german",
   "metadata": {},
   "outputs": [],
   "source": [
    "acc_mag = [col for col in X.columns if acc_mag in col]"
   ]
  },
  {
   "cell_type": "code",
   "execution_count": 27,
   "id": "following-terrain",
   "metadata": {},
   "outputs": [],
   "source": [
    "acc_cols = list(set(acc_cols).difference(jerk_cols).difference(acc_mag))"
   ]
  },
  {
   "cell_type": "code",
   "execution_count": 29,
   "id": "printable-lottery",
   "metadata": {},
   "outputs": [
    {
     "data": {
      "text/plain": [
       "82"
      ]
     },
     "execution_count": 29,
     "metadata": {},
     "output_type": "execute_result"
    }
   ],
   "source": [
    "len(acc_cols)"
   ]
  },
  {
   "cell_type": "code",
   "execution_count": 31,
   "id": "timely-spank",
   "metadata": {},
   "outputs": [],
   "source": [
    "cleaned_jerk = list(map(lambda x: re.sub(\"Jerk\", \"\", x), jerk_cols))"
   ]
  },
  {
   "cell_type": "code",
   "execution_count": 33,
   "id": "sufficient-fleece",
   "metadata": {},
   "outputs": [],
   "source": [
    "new = list(set(acc_cols).difference(set(cleaned_jerk)))"
   ]
  },
  {
   "cell_type": "code",
   "execution_count": 34,
   "id": "superior-intranet",
   "metadata": {},
   "outputs": [
    {
     "data": {
      "text/plain": [
       "['fBodyAcc-main()-Y', 'fBodyAcc-main()-Z', 'fBodyAcc-main()-X']"
      ]
     },
     "execution_count": 34,
     "metadata": {},
     "output_type": "execute_result"
    }
   ],
   "source": [
    "new"
   ]
  },
  {
   "cell_type": "code",
   "execution_count": 35,
   "id": "related-county",
   "metadata": {},
   "outputs": [],
   "source": [
    "gyro = \"tBodyGyro\"\n",
    "acc = \"tBodyAcc\""
   ]
  },
  {
   "cell_type": "code",
   "execution_count": 36,
   "id": "dominican-cleaners",
   "metadata": {},
   "outputs": [],
   "source": [
    "gyro_cols = [col for col in X.columns if gyro in col]\n",
    "acc_cols = [col for col in X.columns if acc in col]"
   ]
  },
  {
   "cell_type": "code",
   "execution_count": 37,
   "id": "loved-stroke",
   "metadata": {},
   "outputs": [],
   "source": [
    "gyro_cols = list(map(lambda x: re.sub(\"Gyro\", \"\",x), gyro_cols))\n",
    "acc_cols = list(map(lambda x: re.sub(\"Acc\", \"\",x), acc_cols))"
   ]
  },
  {
   "cell_type": "code",
   "execution_count": 38,
   "id": "optimum-effects",
   "metadata": {},
   "outputs": [],
   "source": [
    "new_t = list(set(gyro_cols).difference(acc_cols))"
   ]
  },
  {
   "cell_type": "code",
   "execution_count": 40,
   "id": "promising-verification",
   "metadata": {},
   "outputs": [],
   "source": [
    "new_t = [col for col in new_t if \"angle\" not in col]"
   ]
  },
  {
   "cell_type": "code",
   "execution_count": 46,
   "id": "fiscal-significance",
   "metadata": {},
   "outputs": [
    {
     "data": {
      "text/plain": [
       "['tBodyGyro-low()-X', 'tBodyGyro-low()-Z', 'tBodyGyro-low()-Y']"
      ]
     },
     "execution_count": 46,
     "metadata": {},
     "output_type": "execute_result"
    }
   ],
   "source": [
    "new_t = list(map(lambda x: re.sub(\"y-\", \"yGyro-\",x), new_t))\n",
    "new_t"
   ]
  },
  {
   "cell_type": "code",
   "execution_count": 71,
   "id": "composed-explanation",
   "metadata": {
    "collapsed": true,
    "jupyter": {
     "outputs_hidden": true
    }
   },
   "outputs": [
    {
     "data": {
      "text/plain": [
       "['energy-mean()',\n",
       " 'fBodyAcc-energy()-X',\n",
       " 'fBodyAcc-energy()-Y',\n",
       " 'fBodyAcc-energy()-Z',\n",
       " 'fBodyAccJerk-energy()-X',\n",
       " 'fBodyAccJerk-energy()-Y',\n",
       " 'fBodyAccJerk-energy()-Z',\n",
       " 'fBodyAccMag-energy()',\n",
       " 'fBodyBodyAccJerkMag-energy()',\n",
       " 'fBodyBodyGyroJerkMag-energy()',\n",
       " 'fBodyBodyGyroMag-energy()',\n",
       " 'fBodyGyro-energy()-X',\n",
       " 'fBodyGyro-energy()-Y',\n",
       " 'fBodyGyro-energy()-Z',\n",
       " 'tBodyAcc-energy()-X',\n",
       " 'tBodyAcc-energy()-Y',\n",
       " 'tBodyAcc-energy()-Z',\n",
       " 'tBodyAccJerk-energy()-X',\n",
       " 'tBodyAccJerk-energy()-Y',\n",
       " 'tBodyAccJerk-energy()-Z',\n",
       " 'tBodyAccJerkMag-energy()',\n",
       " 'tBodyAccMag-energy()',\n",
       " 'tBodyGyro-energy()-X',\n",
       " 'tBodyGyro-energy()-Y',\n",
       " 'tBodyGyro-energy()-Z',\n",
       " 'tBodyGyroJerk-energy()-X',\n",
       " 'tBodyGyroJerk-energy()-Y',\n",
       " 'tBodyGyroJerk-energy()-Z',\n",
       " 'tBodyGyroJerkMag-energy()',\n",
       " 'tBodyGyroMag-energy()',\n",
       " 'tGravityAcc-energy()-X',\n",
       " 'tGravityAcc-energy()-Y',\n",
       " 'tGravityAcc-energy()-Z',\n",
       " 'tGravityAccMag-energy()']"
      ]
     },
     "execution_count": 71,
     "metadata": {},
     "output_type": "execute_result"
    }
   ],
   "source": [
    "[col for col in X.columns if \"energy\" in col]"
   ]
  },
  {
   "cell_type": "code",
   "execution_count": 72,
   "id": "soviet-dragon",
   "metadata": {},
   "outputs": [],
   "source": [
    "drop_cols = new_t+new + [\"void()\", \"shadow-gravity-angle()\", \"energy-mean()\"]"
   ]
  },
  {
   "cell_type": "code",
   "execution_count": 73,
   "id": "quarterly-october",
   "metadata": {},
   "outputs": [
    {
     "data": {
      "text/plain": [
       "['tBodyGyro-low()-X',\n",
       " 'tBodyGyro-low()-Z',\n",
       " 'tBodyGyro-low()-Y',\n",
       " 'fBodyAcc-main()-Y',\n",
       " 'fBodyAcc-main()-Z',\n",
       " 'fBodyAcc-main()-X',\n",
       " 'void()',\n",
       " 'shadow-gravity-angle()',\n",
       " 'energy-mean()']"
      ]
     },
     "execution_count": 73,
     "metadata": {},
     "output_type": "execute_result"
    }
   ],
   "source": [
    "drop_cols"
   ]
  },
  {
   "cell_type": "code",
   "execution_count": 76,
   "id": "suitable-production",
   "metadata": {},
   "outputs": [],
   "source": [
    "X.drop(columns=drop_cols, inplace=True)"
   ]
  },
  {
   "cell_type": "code",
   "execution_count": 78,
   "id": "subsequent-assignment",
   "metadata": {},
   "outputs": [
    {
     "data": {
      "text/html": [
       "<div>\n",
       "<style scoped>\n",
       "    .dataframe tbody tr th:only-of-type {\n",
       "        vertical-align: middle;\n",
       "    }\n",
       "\n",
       "    .dataframe tbody tr th {\n",
       "        vertical-align: top;\n",
       "    }\n",
       "\n",
       "    .dataframe thead th {\n",
       "        text-align: right;\n",
       "    }\n",
       "</style>\n",
       "<table border=\"1\" class=\"dataframe\">\n",
       "  <thead>\n",
       "    <tr style=\"text-align: right;\">\n",
       "      <th></th>\n",
       "      <th>count</th>\n",
       "    </tr>\n",
       "  </thead>\n",
       "  <tbody>\n",
       "    <tr>\n",
       "      <th>fBodyAccJerk</th>\n",
       "      <td>79</td>\n",
       "    </tr>\n",
       "    <tr>\n",
       "      <th>fBodyGyro</th>\n",
       "      <td>79</td>\n",
       "    </tr>\n",
       "    <tr>\n",
       "      <th>fBodyAcc</th>\n",
       "      <td>79</td>\n",
       "    </tr>\n",
       "    <tr>\n",
       "      <th>tBodyAcc</th>\n",
       "      <td>40</td>\n",
       "    </tr>\n",
       "    <tr>\n",
       "      <th>tGravityAcc</th>\n",
       "      <td>40</td>\n",
       "    </tr>\n",
       "    <tr>\n",
       "      <th>tBodyGyroJerk</th>\n",
       "      <td>40</td>\n",
       "    </tr>\n",
       "    <tr>\n",
       "      <th>tBodyGyro</th>\n",
       "      <td>40</td>\n",
       "    </tr>\n",
       "    <tr>\n",
       "      <th>tBodyAccJerk</th>\n",
       "      <td>40</td>\n",
       "    </tr>\n",
       "    <tr>\n",
       "      <th>tBodyAccMag</th>\n",
       "      <td>13</td>\n",
       "    </tr>\n",
       "    <tr>\n",
       "      <th>tBodyGyroMag</th>\n",
       "      <td>13</td>\n",
       "    </tr>\n",
       "    <tr>\n",
       "      <th>tBodyGyroJerkMag</th>\n",
       "      <td>13</td>\n",
       "    </tr>\n",
       "    <tr>\n",
       "      <th>tGravityAccMag</th>\n",
       "      <td>13</td>\n",
       "    </tr>\n",
       "    <tr>\n",
       "      <th>tBodyAccJerkMag</th>\n",
       "      <td>13</td>\n",
       "    </tr>\n",
       "    <tr>\n",
       "      <th>fBodyBodyGyroMag</th>\n",
       "      <td>13</td>\n",
       "    </tr>\n",
       "    <tr>\n",
       "      <th>fBodyBodyGyroJerkMag</th>\n",
       "      <td>13</td>\n",
       "    </tr>\n",
       "    <tr>\n",
       "      <th>fBodyBodyAccJerkMag</th>\n",
       "      <td>13</td>\n",
       "    </tr>\n",
       "    <tr>\n",
       "      <th>fBodyAccMag</th>\n",
       "      <td>13</td>\n",
       "    </tr>\n",
       "    <tr>\n",
       "      <th>angle</th>\n",
       "      <td>7</td>\n",
       "    </tr>\n",
       "    <tr>\n",
       "      <th>subject</th>\n",
       "      <td>1</td>\n",
       "    </tr>\n",
       "  </tbody>\n",
       "</table>\n",
       "</div>"
      ],
      "text/plain": [
       "                      count\n",
       "fBodyAccJerk             79\n",
       "fBodyGyro                79\n",
       "fBodyAcc                 79\n",
       "tBodyAcc                 40\n",
       "tGravityAcc              40\n",
       "tBodyGyroJerk            40\n",
       "tBodyGyro                40\n",
       "tBodyAccJerk             40\n",
       "tBodyAccMag              13\n",
       "tBodyGyroMag             13\n",
       "tBodyGyroJerkMag         13\n",
       "tGravityAccMag           13\n",
       "tBodyAccJerkMag          13\n",
       "fBodyBodyGyroMag         13\n",
       "fBodyBodyGyroJerkMag     13\n",
       "fBodyBodyAccJerkMag      13\n",
       "fBodyAccMag              13\n",
       "angle                     7\n",
       "subject                   1"
      ]
     },
     "execution_count": 78,
     "metadata": {},
     "output_type": "execute_result"
    }
   ],
   "source": [
    "info = pd.DataFrame.from_dict(Counter([col.split('-')[0].split('(')[0] for col in X.columns]), orient='index').rename(columns={0:'count'}).sort_values('count', ascending=False)\n",
    "info"
   ]
  },
  {
   "cell_type": "code",
   "execution_count": 79,
   "id": "beneficial-camel",
   "metadata": {},
   "outputs": [
    {
     "data": {
      "text/plain": [
       "562"
      ]
     },
     "execution_count": 79,
     "metadata": {},
     "output_type": "execute_result"
    }
   ],
   "source": [
    "info[\"count\"].sum()"
   ]
  }
 ],
 "metadata": {
  "kernelspec": {
   "display_name": "Python 3",
   "language": "python",
   "name": "python3"
  },
  "language_info": {
   "codemirror_mode": {
    "name": "ipython",
    "version": 3
   },
   "file_extension": ".py",
   "mimetype": "text/x-python",
   "name": "python",
   "nbconvert_exporter": "python",
   "pygments_lexer": "ipython3",
   "version": "3.6.9"
  }
 },
 "nbformat": 4,
 "nbformat_minor": 5
}
