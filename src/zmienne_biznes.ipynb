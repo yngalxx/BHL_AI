{
 "cells": [
  {
   "cell_type": "markdown",
   "id": "prescription-possible",
   "metadata": {},
   "source": [
    " ## Zmienna | Rozwinięcie Angielskie | Rozwinięcie Polskie \n",
    " - tBodyGyro | Angular velocity of the body | Prędkość kątowa ciała\n",
    " - tBodyGyroJerk | Rate at which the angular velocity changes | Prędkość, z jaką zmienia się prędkość kątowa\n",
    " - tBodyAcc | Acceleration of the body | Przyspieszenie ciała\n",
    " - tBodyAccJerk | Rate at which the acceleration changes | Szybkość, z jaką zmienia się przyspieszenie\n",
    " - tGravityAcc | Gravitational acceleration | Przyspieszenie grawitacyjne\n",
    "\n"
   ]
  },
  {
   "cell_type": "markdown",
   "id": "green-rhythm",
   "metadata": {},
   "source": [
    "## Główne rodzaje zmiennych \n",
    "\n",
    "1. Time domain (dziedzina czasu)\n",
    "2. Frequency domain (dziedzina częstotliwości)"
   ]
  },
  {
   "cell_type": "markdown",
   "id": "excited-underground",
   "metadata": {},
   "source": [
    " ## Zastosowane statystyki w funkcjach przy rozwinięciu zmiennych\n",
    "\n",
    " - Mean() Mean value\n",
    " - Std() Standard deviation\n",
    " - Mad() Absolute deviation of the median \n",
    " - Max() Largest value in the array\n",
    " - Min() Smallest value in the array \n",
    " - Sma() Signal magnitude area\n",
    " - Energy() Energy measure\n",
    " - Iqr() Interquartile range\n",
    " - Entropy() Signal entropy\n",
    " - ArCoeff() Autoregression coefficients Correlation() Correlation between two signals Angle() Angle between two vectors"
   ]
  },
  {
   "cell_type": "markdown",
   "id": "protective-helmet",
   "metadata": {},
   "source": [
    "## Zmienne uznane przez zespół za syntetyczne\n",
    "\n",
    "1. 'tBodyGyro-low()-X',\n",
    "2. 'tBodyGyro-low()-Z',\n",
    "3. 'tBodyGyro-low()-Y',\n",
    "4. 'fBodyAcc-main()-Y',\n",
    "5. 'fBodyAcc-main()-Z',\n",
    "6. 'fBodyAcc-main()-X',\n",
    "7. 'shadow-gravity-angle()',\n",
    "8. 'energy-mean()',\n",
    "9. 'void()'\n",
    "\n",
    "#### powód syntetyczności zmiennych\n",
    "\n",
    "te zmienne są przekształceniem pozostałych zmiennych w związku z czym nie przyczyniają się do wyjaśniania wariancji"
   ]
  },
  {
   "cell_type": "markdown",
   "id": "intimate-portland",
   "metadata": {},
   "source": [
    "## Zastosowania biznesowe modelu\n",
    "\n",
    " - Aplikacje monitorujące aktywność fizyczną użytkownika smartfona (zdrowie iOS),\n",
    " - Aplikacje dopasowujące plan treningowy lub plan żywienia do aktywności użytkownika,\n",
    " - Aplikacje ratunkowe - można śledzić stanu zdrowia pacjenta i powiadamiać personel medyczny w razie nagłej potrzeby \n",
    " - Aplikacje smart home - ustawienia parametrów takich jak (temperatura, wilgotność itp.) w zależności od aktywności osób w domu.\n",
    " - System przeciwdziałający kradzieży smartfona - aktywność znacznie odstającej od typowego zakresu aktywności właściciela. \n",
    " - Wzbogacenie informacji dla planistów miejskich - uwzględnienie typowych aktywności wykonywanych przez użytkowników w danych częściach miasta (osiedla sypialne, arterie komunikacyjne itp.) - do tego konieczne też dane o położeniu Geo smartfona "
   ]
  },
  {
   "cell_type": "markdown",
   "id": "impossible-description",
   "metadata": {},
   "source": [
    "### Publikacje naukowe\n",
    " [1] OLDENGARM, B. M. J. Improving human activity recognition using embedded smartphone sensors. 2020. Bachelor's Thesis. University of Twente.\n",
    " \n",
    " [2] Silva, J. R. C. D. (2013). Smartphone based human activity prediction.\n",
    " \n",
    " [3] https://archive.ics.uci.edu/ml/datasets/Human+Activity+Recognition+Using+Smartphones# \n",
    " \n",
    " [4] Ranasinghe, Suneth & Al Machot, Fadi & Mayr, Heinrich. (2016). A Review on Applications of Activity Recognition Systems with Regard to Performance and Evaluation. International Journal of Distributed Sensor Networks. 12. 10.1177/1550147716665520. "
   ]
  }
 ],
 "metadata": {
  "kernelspec": {
   "display_name": "Python 3",
   "language": "python",
   "name": "python3"
  },
  "language_info": {
   "codemirror_mode": {
    "name": "ipython",
    "version": 3
   },
   "file_extension": ".py",
   "mimetype": "text/x-python",
   "name": "python",
   "nbconvert_exporter": "python",
   "pygments_lexer": "ipython3",
   "version": "3.6.9"
  }
 },
 "nbformat": 4,
 "nbformat_minor": 5
}
